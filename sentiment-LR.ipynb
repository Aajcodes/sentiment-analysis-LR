{
 "cells": [
  {
   "cell_type": "code",
   "execution_count": 1,
   "id": "13969bd4-9fa8-4450-b9a5-c894bb93a3eb",
   "metadata": {},
   "outputs": [],
   "source": [
    "import pandas as pd"
   ]
  },
  {
   "cell_type": "code",
   "execution_count": 2,
   "id": "cb799dcd-3b7c-4a4b-9d59-d9fb1a4ed78c",
   "metadata": {},
   "outputs": [
    {
     "data": {
      "text/html": [
       "<div>\n",
       "<style scoped>\n",
       "    .dataframe tbody tr th:only-of-type {\n",
       "        vertical-align: middle;\n",
       "    }\n",
       "\n",
       "    .dataframe tbody tr th {\n",
       "        vertical-align: top;\n",
       "    }\n",
       "\n",
       "    .dataframe thead th {\n",
       "        text-align: right;\n",
       "    }\n",
       "</style>\n",
       "<table border=\"1\" class=\"dataframe\">\n",
       "  <thead>\n",
       "    <tr style=\"text-align: right;\">\n",
       "      <th></th>\n",
       "      <th>package_name</th>\n",
       "      <th>review</th>\n",
       "      <th>polarity</th>\n",
       "    </tr>\n",
       "  </thead>\n",
       "  <tbody>\n",
       "    <tr>\n",
       "      <th>0</th>\n",
       "      <td>com.facebook.katana</td>\n",
       "      <td>privacy at least put some option appear offli...</td>\n",
       "      <td>0</td>\n",
       "    </tr>\n",
       "    <tr>\n",
       "      <th>1</th>\n",
       "      <td>com.facebook.katana</td>\n",
       "      <td>messenger issues ever since the last update, ...</td>\n",
       "      <td>0</td>\n",
       "    </tr>\n",
       "    <tr>\n",
       "      <th>2</th>\n",
       "      <td>com.facebook.katana</td>\n",
       "      <td>profile any time my wife or anybody has more ...</td>\n",
       "      <td>0</td>\n",
       "    </tr>\n",
       "    <tr>\n",
       "      <th>3</th>\n",
       "      <td>com.facebook.katana</td>\n",
       "      <td>the new features suck for those of us who don...</td>\n",
       "      <td>0</td>\n",
       "    </tr>\n",
       "    <tr>\n",
       "      <th>4</th>\n",
       "      <td>com.facebook.katana</td>\n",
       "      <td>forced reload on uploading pic on replying co...</td>\n",
       "      <td>0</td>\n",
       "    </tr>\n",
       "  </tbody>\n",
       "</table>\n",
       "</div>"
      ],
      "text/plain": [
       "          package_name                                             review  \\\n",
       "0  com.facebook.katana   privacy at least put some option appear offli...   \n",
       "1  com.facebook.katana   messenger issues ever since the last update, ...   \n",
       "2  com.facebook.katana   profile any time my wife or anybody has more ...   \n",
       "3  com.facebook.katana   the new features suck for those of us who don...   \n",
       "4  com.facebook.katana   forced reload on uploading pic on replying co...   \n",
       "\n",
       "   polarity  \n",
       "0         0  \n",
       "1         0  \n",
       "2         0  \n",
       "3         0  \n",
       "4         0  "
      ]
     },
     "execution_count": 2,
     "metadata": {},
     "output_type": "execute_result"
    }
   ],
   "source": [
    "# Reading the CSV file 'android-reviews.csv' into a pandas DataFrame and assigning it to a variable review\n",
    "\n",
    "review = pd.read_csv('android-reviews.csv')\n",
    "\n",
    "# Renaming the column 'text' to 'review' using the rename() function. \n",
    "# inplace=False ensures that the original DataFrame is not modified, and the result is stored in a new DataFrame\n",
    "\n",
    "review = review.rename(columns = {'text': 'review'}, inplace = False)\n",
    "\n",
    "#Displaying the first few rows to verify changes\n",
    "\n",
    "review.head()"
   ]
  },
  {
   "cell_type": "code",
   "execution_count": 6,
   "id": "8b3953e3-aef1-409e-95f0-f714f0a07342",
   "metadata": {},
   "outputs": [],
   "source": [
    "from sklearn.model_selection import train_test_split \n",
    "\n",
    "X = review.review\n",
    "y = review.polarity\n",
    "\n",
    "#Splitting the data into training and testing sets \n",
    "# Splitting the data into training and testing sets using train_test_split() function\n",
    "# X_train: Features for training set, X_test: Features for testing set\n",
    "# y_train: Target values for training set, y_test: Target values for testing set\n",
    "# train_size=0.8 specifies that 80% of the data will be used for training, and 20% for testing\n",
    "# random_state=1 ensures reproducibility of the results\n",
    "\n",
    "X_train, X_test, y_train, y_test = train_test_split(X,y,train_size = 0.8, random_state = 1)"
   ]
  },
  {
   "cell_type": "code",
   "execution_count": 15,
   "id": "72230baa-1900-4948-9e12-b274b417c16d",
   "metadata": {},
   "outputs": [
    {
     "name": "stdout",
     "output_type": "stream",
     "text": [
      "Evaluation Metrics for Logistic Regression Model\n",
      "------------------------------------------------\n",
      "              precision    recall  f1-score   support\n",
      "\n",
      "           0       0.71      0.96      0.82       114\n",
      "           1       0.84      0.32      0.47        65\n",
      "\n",
      "    accuracy                           0.73       179\n",
      "   macro avg       0.78      0.64      0.64       179\n",
      "weighted avg       0.76      0.73      0.69       179\n",
      "\n"
     ]
    }
   ],
   "source": [
    "# Importing necessary modules from scikit-learn\n",
    "\n",
    "from sklearn.pipeline import Pipeline  # Module for creating a pipeline for machine learning models\n",
    "from sklearn.feature_extraction.text import TfidfVectorizer  # Module for converting text data into numerical vectors\n",
    "from sklearn.linear_model import LogisticRegression  # Module for logistic regression classifier\n",
    "from sklearn.metrics import accuracy_score, precision_score, recall_score, f1_score, classification_report  # Modules for evaluation metrics\n",
    "\n",
    "\n",
    "# Defining a model pipeline\n",
    "\n",
    "model_pipeline_lr = Pipeline([\n",
    "    ('tfidf', TfidfVectorizer()),  # Step 1: Text preprocessing with TF-IDF Vectorizer\n",
    "    ('lr', LogisticRegression())   # Step 2: Classification with Logistic Regression\n",
    "])\n",
    "\n",
    "\n",
    "#Training the model\n",
    "\n",
    "model_pipeline_lr.fit(X_train, y_train)\n",
    "\n",
    "\n",
    "# Predict on the test set\n",
    "\n",
    "y_pred_lr = model_pipeline_lr.predict(X_test)\n",
    "\n",
    "\n",
    "# Evaluating  the performance of the model\n",
    "\n",
    "accuracy_lr = accuracy_score(y_test, y_pred_lr)\n",
    "precision_lr = precision_score(y_test, y_pred_lr, average='weighted')\n",
    "recall_lr = recall_score(y_test, y_pred_lr, average='weighted')\n",
    "f1_score_lr = f1_score(y_test, y_pred_lr, average='weighted')\n",
    "classification_report_lr = classification_report(y_test, y_pred_lr)\n",
    "\n",
    "\n",
    "# Print evaluation metrics\n",
    "\n",
    "print(\"Evaluation Metrics for Logistic Regression Model\")\n",
    "print(\"------------------------------------------------\")\n",
    "print(classification_report_lr)\n"
   ]
  },
  {
   "cell_type": "code",
   "execution_count": 16,
   "id": "2a77078a-b5e6-48da-bfba-79a4f4f4f2b4",
   "metadata": {},
   "outputs": [
    {
     "data": {
      "text/plain": [
       "['sentiment-model.pkl']"
      ]
     },
     "execution_count": 16,
     "metadata": {},
     "output_type": "execute_result"
    }
   ],
   "source": [
    "#saving the trained regression model to sentiment_model.pkl\n",
    "\n",
    "from joblib import dump\n",
    "dump(model_pipeline_lr, 'sentiment-model.pkl')"
   ]
  },
  {
   "cell_type": "code",
   "execution_count": null,
   "id": "d56289f9-2e88-4123-9757-646bdaa81ac1",
   "metadata": {},
   "outputs": [],
   "source": []
  }
 ],
 "metadata": {
  "kernelspec": {
   "display_name": "Python 3 (ipykernel)",
   "language": "python",
   "name": "python3"
  },
  "language_info": {
   "codemirror_mode": {
    "name": "ipython",
    "version": 3
   },
   "file_extension": ".py",
   "mimetype": "text/x-python",
   "name": "python",
   "nbconvert_exporter": "python",
   "pygments_lexer": "ipython3",
   "version": "3.11.8"
  }
 },
 "nbformat": 4,
 "nbformat_minor": 5
}
